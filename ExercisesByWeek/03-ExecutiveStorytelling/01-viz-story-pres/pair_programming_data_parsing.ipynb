{
 "cells": [
  {
   "cell_type": "markdown",
   "metadata": {
    "deletable": true,
    "editable": true
   },
   "source": [
    "# Data Story Telling"
   ]
  },
  {
   "cell_type": "code",
   "execution_count": null,
   "metadata": {
    "collapsed": true,
    "deletable": true,
    "editable": true
   },
   "outputs": [],
   "source": [
    "# Download GDP Data from: \n",
    "# https://www.bea.gov//national/nipaweb/GetCSV.asp?GetWhat=SS_Data/Section1All_csv.zip&Section=2\n",
    "# Unzip file using: unzip {file_name}"
   ]
  },
  {
   "cell_type": "code",
   "execution_count": 2,
   "metadata": {
    "collapsed": false,
    "deletable": true,
    "editable": true
   },
   "outputs": [],
   "source": [
    "import pandas as pd\n",
    "df = pd.read_csv('~/Downloads/Section1all_csv.csv', sep=',', )"
   ]
  },
  {
   "cell_type": "code",
   "execution_count": 5,
   "metadata": {
    "collapsed": false,
    "deletable": true,
    "editable": true
   },
   "outputs": [],
   "source": [
    "with open('/Users/mrbirdsall/Downloads/Section1all_csv.csv') as f:\n",
    "    c = f.readlines()\n",
    "    "
   ]
  },
  {
   "cell_type": "code",
   "execution_count": 37,
   "metadata": {
    "collapsed": false
   },
   "outputs": [
    {
     "data": {
      "text/plain": [
       "'Table_econfactors_111'"
      ]
     },
     "execution_count": 37,
     "metadata": {},
     "output_type": "execute_result"
    }
   ],
   "source": []
  },
  {
   "cell_type": "code",
   "execution_count": 54,
   "metadata": {
    "collapsed": false
   },
   "outputs": [],
   "source": [
    "import os\n",
    "os.getcwd()\n",
    "direc = '/Users/mrbirdsall/Projects/eda-py3/data_analytics_course/data/'"
   ]
  },
  {
   "cell_type": "code",
   "execution_count": 55,
   "metadata": {
    "collapsed": false
   },
   "outputs": [],
   "source": [
    "# find the first and last rows of the tables.\n",
    "\n",
    "for i, line in enumerate(c):\n",
    "    if line.startswith('Table'):\n",
    "        cf  = line\n",
    "        filename = direc + 'meta' + str(m.group(0).split(' ')[0] + m.group(0).split(' ')[1].replace('.','')) + '.csv'\n",
    "    elif line.startswith('Line'):\n",
    "        cf = line\n",
    "        filename = direc + 'data' + str(m.group(0).split(' ')[0] + m.group(0).split(' ')[1].replace('.','')) + '.csv'\n",
    "    elif re.search(r'[a-zA-Z0-9]',line) is None:\n",
    "        with open(filename, 'w') as n:\n",
    "            n.write(cf)\n",
    "            n.close\n",
    "        filename='emptybuffer'\n",
    "        cf = str()\n",
    "    else:\n",
    "        cf += line\n"
   ]
  },
  {
   "cell_type": "markdown",
   "metadata": {},
   "source": [
    "**Notice the file doesn't load correctly.**\n",
    "**Oftentimes datasets are not in a good format and need to be rearranged.**"
   ]
  },
  {
   "cell_type": "markdown",
   "metadata": {
    "deletable": true,
    "editable": true
   },
   "source": [
    "## Create a script to parse this csv file and create a new csv file for each table"
   ]
  },
  {
   "cell_type": "markdown",
   "metadata": {},
   "source": [
    "This task is as easy as marking the first line and last line of a dataset and then devising a way to create a filename so you can, again, go directly to the file you need to open and use."
   ]
  },
  {
   "cell_type": "code",
   "execution_count": 63,
   "metadata": {
    "collapsed": false
   },
   "outputs": [
    {
     "name": "stdout",
     "output_type": "stream",
     "text": [
      "Table_econfactors_111\n",
      "Table 1.1.1. Percent Change Fr\n",
      "[Percent],\n",
      "Annual dat\n",
      "Bureau of \n",
      "\"Data publ\n",
      "File creat\n",
      ",,,,,,,,,,\n",
      "Line,,,1969,1970,1971,1972,1973,1974,1975,1976,1977,1978,1979,1980,1981,1982,198\n",
      "1,    Gros\n",
      "2,Personal\n",
      "3,  Goods,\n",
      "4,    Dura\n",
      "5,    Nond\n",
      "6,  Servic\n",
      "7,Gross pr\n",
      "8,  Fixed \n",
      "9,    Nonr\n",
      "10,      S\n",
      "11,      E\n",
      "12,      I\n",
      "13,    Res\n",
      "14,  Chang\n",
      "15,Net exp\n",
      "16,  Expor\n",
      "17,    Goo\n",
      "18,    Ser\n",
      "19,  Impor\n",
      "20,    Goo\n",
      "21,    Ser\n",
      "22,Governm\n",
      "23,  Feder\n",
      "24,    Nat\n",
      "25,    Non\n",
      "26,  State\n",
      ",Addendum:\n",
      "27,\"  Gros\n",
      ",,,,,,,,,,\n",
      ",,,,,,,,,,\n",
      "Table 1.1.1. Percent Change Fr\n",
      "[Percent];\n",
      "Quarterly \n",
      "Bureau of \n",
      "\"Data publ\n",
      "File creat\n",
      ",,,,,,,,,,\n",
      "Line,,,1969,1969,1969,1969,1970,1970,1970,1970,1971,1971,1971,1971,1972,1972,197\n",
      ",,,1,2,3,4\n",
      "1,    Gros\n",
      "2,Personal\n",
      "3,  Goods,\n",
      "4,    Dura\n",
      "5,    Nond\n",
      "6,  Servic\n",
      "7,Gross pr\n",
      "8,  Fixed \n",
      "9,    Nonr\n",
      "10,      S\n",
      "11,      E\n",
      "12,      I\n",
      "13,    Res\n",
      "14,  Chang\n",
      "15,Net exp\n",
      "16,  Expor\n",
      "17,    Goo\n"
     ]
    }
   ],
   "source": [
    "import re\n",
    "# Let's find the filenames. Each table starts with Table X.Y.Z and the data starts at a line that starts with Line,\n",
    "\n",
    "m = re.match(r'^Table\\s+([0-9\\.]{6,})', str(c[0]) )\n",
    "filename = str(m.group(0).split(' ')[0]+ '_econfactors_' + m.group(0).split(' ')[1].replace('.',''))\n",
    "# found file name\n",
    "print(filename)\n",
    "\n",
    "# find the first and last rows of the tables.\n",
    "for i, line in enumerate(c[0:64]):\n",
    "    if line.startswith('Line'):\n",
    "        print(line[0:80])\n",
    "    elif line.startswith('Table'):\n",
    "        print(line[0:30])\n",
    "    else:\n",
    "        print(line[0:10])\n",
    "\n"
   ]
  },
  {
   "cell_type": "code",
   "execution_count": null,
   "metadata": {
    "collapsed": true,
    "deletable": true,
    "editable": true
   },
   "outputs": [],
   "source": [
    "\n",
    "\n",
    "for i, line in enumerate(c):\n",
    "    if line.startswith('Table'):\n",
    "        cf  = line\n",
    "        filename = direc + 'meta' + str(m.group(0).split(' ')[0] + m.group(0).split(' ')[1].replace('.','')) + '.csv'\n",
    "    elif line.startswith('Line'):\n",
    "        cf = line\n",
    "        filename = direc + 'data' + str(m.group(0).split(' ')[0] + m.group(0).split(' ')[1].replace('.','')) + '.csv'\n",
    "    elif re.search(r'[a-zA-Z0-9]',line) is None:\n",
    "        with open(filename, 'w') as n:\n",
    "            n.write(cf)\n",
    "            n.close\n",
    "        filename='emptybuffer'\n",
    "        cf = str()\n",
    "    else:\n",
    "        cf += line"
   ]
  }
 ],
 "metadata": {
  "kernelspec": {
   "display_name": "Python 3",
   "language": "python",
   "name": "python3"
  },
  "language_info": {
   "codemirror_mode": {
    "name": "ipython",
    "version": 3
   },
   "file_extension": ".py",
   "mimetype": "text/x-python",
   "name": "python",
   "nbconvert_exporter": "python",
   "pygments_lexer": "ipython3",
   "version": "3.6.0"
  }
 },
 "nbformat": 4,
 "nbformat_minor": 1
}
